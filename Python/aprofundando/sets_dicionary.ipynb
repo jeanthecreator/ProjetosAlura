{
 "cells": [
  {
   "cell_type": "code",
   "execution_count": 1,
   "metadata": {},
   "outputs": [],
   "source": [
    "usuarios_curso_1 = {15, 23, 43, 56}\n",
    "usuarios_curso_2 = {13, 23, 42, 56}"
   ]
  },
  {
   "cell_type": "code",
   "execution_count": 2,
   "metadata": {},
   "outputs": [
    {
     "data": {
      "text/plain": [
       "{15, 43}"
      ]
     },
     "execution_count": 2,
     "metadata": {},
     "output_type": "execute_result"
    }
   ],
   "source": [
    "usuarios_curso_1 - usuarios_curso_2"
   ]
  },
  {
   "cell_type": "code",
   "execution_count": 3,
   "metadata": {},
   "outputs": [
    {
     "data": {
      "text/plain": [
       "{13, 15, 23, 42, 43, 56}"
      ]
     },
     "execution_count": 3,
     "metadata": {},
     "output_type": "execute_result"
    }
   ],
   "source": [
    "usuarios_curso_2 | usuarios_curso_1"
   ]
  },
  {
   "cell_type": "code",
   "execution_count": 4,
   "metadata": {},
   "outputs": [
    {
     "data": {
      "text/plain": [
       "{23, 56}"
      ]
     },
     "execution_count": 4,
     "metadata": {},
     "output_type": "execute_result"
    }
   ],
   "source": [
    "usuarios_curso_1 & usuarios_curso_2"
   ]
  },
  {
   "cell_type": "code",
   "execution_count": 5,
   "metadata": {},
   "outputs": [
    {
     "data": {
      "text/plain": [
       "{13, 15, 42, 43}"
      ]
     },
     "execution_count": 5,
     "metadata": {},
     "output_type": "execute_result"
    }
   ],
   "source": [
    "usuarios_curso_1 ^ usuarios_curso_2"
   ]
  },
  {
   "cell_type": "code",
   "execution_count": 6,
   "metadata": {},
   "outputs": [],
   "source": [
    "usuarios_novos = usuarios_curso_1 | usuarios_curso_2"
   ]
  },
  {
   "cell_type": "code",
   "execution_count": 9,
   "metadata": {},
   "outputs": [],
   "source": [
    "usuarios_novos.add(12)"
   ]
  },
  {
   "cell_type": "code",
   "execution_count": 12,
   "metadata": {},
   "outputs": [
    {
     "data": {
      "text/plain": [
       "frozenset"
      ]
     },
     "execution_count": 12,
     "metadata": {},
     "output_type": "execute_result"
    }
   ],
   "source": [
    "usuario_novos_2 = frozenset(usuarios_novos)\n",
    "type(usuario_novos_2)"
   ]
  },
  {
   "attachments": {},
   "cell_type": "markdown",
   "metadata": {},
   "source": [
    "## Dicionarios"
   ]
  },
  {
   "cell_type": "code",
   "execution_count": 13,
   "metadata": {},
   "outputs": [],
   "source": [
    "dicionario = {\n",
    "    'jean' : 1,\n",
    "    'cadeira' : 2,\n",
    "    'matematica' : 3,\n",
    "    'matriz': 4\n",
    "}"
   ]
  },
  {
   "cell_type": "code",
   "execution_count": 21,
   "metadata": {},
   "outputs": [],
   "source": [
    "dicionario['marreta'] = 5"
   ]
  },
  {
   "cell_type": "code",
   "execution_count": 23,
   "metadata": {},
   "outputs": [],
   "source": [
    "del dicionario['marreta']"
   ]
  },
  {
   "cell_type": "code",
   "execution_count": 20,
   "metadata": {},
   "outputs": [],
   "source": [
    "dicionario['substantivo'] = 5"
   ]
  },
  {
   "cell_type": "code",
   "execution_count": 24,
   "metadata": {},
   "outputs": [
    {
     "data": {
      "text/plain": [
       "{'jean': 1, 'cadeira': 2, 'matematica': 3, 'matriz': 4, 'substantivo': 5}"
      ]
     },
     "execution_count": 24,
     "metadata": {},
     "output_type": "execute_result"
    }
   ],
   "source": [
    "dicionario"
   ]
  },
  {
   "cell_type": "code",
   "execution_count": 25,
   "metadata": {},
   "outputs": [
    {
     "name": "stdout",
     "output_type": "stream",
     "text": [
      "jean\n",
      "cadeira\n",
      "matematica\n",
      "matriz\n",
      "substantivo\n"
     ]
    }
   ],
   "source": [
    "for palavras in dicionario:\n",
    "    print(palavras)"
   ]
  },
  {
   "cell_type": "code",
   "execution_count": 27,
   "metadata": {},
   "outputs": [
    {
     "name": "stdout",
     "output_type": "stream",
     "text": [
      "1\n",
      "2\n",
      "3\n",
      "4\n",
      "5\n"
     ]
    }
   ],
   "source": [
    "for valores in dicionario.values():\n",
    "    print(valores)"
   ]
  },
  {
   "cell_type": "code",
   "execution_count": 32,
   "metadata": {},
   "outputs": [
    {
     "name": "stdout",
     "output_type": "stream",
     "text": [
      "jean 1\n",
      "cadeira 2\n",
      "matematica 3\n",
      "matriz 4\n",
      "substantivo 5\n"
     ]
    }
   ],
   "source": [
    "for palavras in dicionario.keys():\n",
    "    print(palavras, dicionario[palavras])"
   ]
  },
  {
   "cell_type": "code",
   "execution_count": 33,
   "metadata": {},
   "outputs": [
    {
     "name": "stdout",
     "output_type": "stream",
     "text": [
      "('jean', 1)\n",
      "('cadeira', 2)\n",
      "('matematica', 3)\n",
      "('matriz', 4)\n",
      "('substantivo', 5)\n"
     ]
    }
   ],
   "source": [
    "for palavras in dicionario.items():\n",
    "    print(palavras)"
   ]
  },
  {
   "cell_type": "code",
   "execution_count": 34,
   "metadata": {},
   "outputs": [
    {
     "name": "stdout",
     "output_type": "stream",
     "text": [
      "jean = 1\n",
      "cadeira = 2\n",
      "matematica = 3\n",
      "matriz = 4\n",
      "substantivo = 5\n"
     ]
    }
   ],
   "source": [
    "for chave, valor in dicionario.items():\n",
    "    print(chave, \"=\", valor)"
   ]
  },
  {
   "cell_type": "code",
   "execution_count": 36,
   "metadata": {},
   "outputs": [
    {
     "data": {
      "text/plain": [
       "1"
      ]
     },
     "execution_count": 36,
     "metadata": {},
     "output_type": "execute_result"
    }
   ],
   "source": [
    "dicionario.get(\"jean\", 0)"
   ]
  },
  {
   "cell_type": "code",
   "execution_count": 44,
   "metadata": {},
   "outputs": [
    {
     "data": {
      "text/plain": [
       "defaultdict(int,\n",
       "            {'bem': 1,\n",
       "             'vindo': 1,\n",
       "             'meu': 2,\n",
       "             'nome': 1,\n",
       "             'é': 1,\n",
       "             'jean': 1,\n",
       "             'eu': 1,\n",
       "             'gosto': 2,\n",
       "             'muito': 2,\n",
       "             'de': 2,\n",
       "             'nomes': 1,\n",
       "             'e': 2,\n",
       "             'tenho': 1,\n",
       "             'o': 1,\n",
       "             'cachorro': 2})"
      ]
     },
     "execution_count": 44,
     "metadata": {},
     "output_type": "execute_result"
    }
   ],
   "source": [
    "\n",
    "\n",
    "meu_texto = \"Bem vindo meu nome é Jean eu gosto muito de nomes e tenho o meu cachorro e gosto muito de cachorro\"\n",
    "meu_texto = meu_texto.lower()\n",
    "meu_texto = meu_texto.split()\n",
    "\n",
    "\n",
    "novo_dicionario = {}\n",
    "\n",
    "for palavras in meu_texto:\n",
    "    novo_dic = novo_dicionario.get(palavras, 0)\n",
    "    novo_dicionario [palavras]= novo_dic + 1\n",
    "\n",
    "\n",
    "novo_dicionario"
   ]
  },
  {
   "cell_type": "code",
   "execution_count": 46,
   "metadata": {},
   "outputs": [
    {
     "data": {
      "text/plain": [
       "defaultdict(int,\n",
       "            {'bem': 1,\n",
       "             'vindo': 1,\n",
       "             'meu': 2,\n",
       "             'nome': 1,\n",
       "             'é': 1,\n",
       "             'jean': 1,\n",
       "             'eu': 1,\n",
       "             'gosto': 2,\n",
       "             'muito': 2,\n",
       "             'de': 2,\n",
       "             'nomes': 1,\n",
       "             'e': 2,\n",
       "             'tenho': 1,\n",
       "             'o': 1,\n",
       "             'cachorro': 2})"
      ]
     },
     "execution_count": 46,
     "metadata": {},
     "output_type": "execute_result"
    }
   ],
   "source": [
    "from collections import defaultdict\n",
    "from collections import Counter\n",
    "\n",
    "novo_dicionario = defaultdict(int)\n",
    "\n",
    "for palavras in meu_texto:\n",
    "    \n",
    "    novo_dicionario [palavras] += 1\n",
    "\n",
    "\n",
    "novo_dicionario"
   ]
  },
  {
   "cell_type": "code",
   "execution_count": 49,
   "metadata": {},
   "outputs": [
    {
     "data": {
      "text/plain": [
       "Counter({'bem': 1,\n",
       "         'vindo': 1,\n",
       "         'meu': 2,\n",
       "         'nome': 1,\n",
       "         'é': 1,\n",
       "         'jean': 1,\n",
       "         'eu': 1,\n",
       "         'gosto': 2,\n",
       "         'muito': 2,\n",
       "         'de': 2,\n",
       "         'nomes': 1,\n",
       "         'e': 2,\n",
       "         'tenho': 1,\n",
       "         'o': 1,\n",
       "         'cachorro': 2})"
      ]
     },
     "execution_count": 49,
     "metadata": {},
     "output_type": "execute_result"
    }
   ],
   "source": [
    "contagem = Counter(meu_texto)\n",
    "\n",
    "contagem"
   ]
  },
  {
   "cell_type": "code",
   "execution_count": 51,
   "metadata": {},
   "outputs": [],
   "source": [
    "texto_1 = \"\"\"\n",
    "Neste artigo, você vai conhecer o que é JavaScript, para que serve e como utilizá-lo. \n",
    "Quando você está pesquisando sobre o mercado de programação é muito comum se deparar com o nome JavaScript. \n",
    "E não é à toa, essa linguagem está presente em toda a Web e você provavelmente lida com ela diariamente enquanto usa seu navegador (e até mesmo fora dele!).\n",
    "Vamos descobrir nesse artigo o que faz o JavaScript ser uma linguagem tão relevante e tão utilizada atualmente\n",
    "O JavaScript se destaca por deixar as páginas Web dinâmicas, que é sua principal função. \n",
    "Sabe quando você está navegando pela internet e encontra algum conteúdo que é interativo, possui alguma animação ou muda constantemente? \n",
    "É bem provável que o JavaScript esteja envolvido em sua execução!\n",
    "Agora que sabemos o que é o JavaScript, que tal entendermos mais sobre a sua história?\n",
    "A década de 90 foi marcada por uma grande disputa no mercado dos navegadores. \n",
    "Nesse momento da história, a Netscape, responsável pelo Netscape Navigator,\n",
    "buscava se destacar na “guerra dos navegadores” e para isso planejava construir algo que pudesse deixar a navegação mais dinâmica, \n",
    "o que para a época seria um enorme diferencial, pois para carregar uma página simples levava muito tempo.\n",
    "Assim, em 1995, a Netscape contratou o desenvolvedor Brendan Eich para criar uma linguagem de script que trouxesse “vida” às páginas Web. \n",
    "Desse modo foi criada uma linguagem que foi chamada de LiveScript.\n",
    "Após uma parceria com a Sun Microsystems, empresa responsável pela criação da linguagem Java, o nome LiveScript foi alterado para JavaScript. \n",
    "Essa foi uma jogada de marketing feita com o fim de chamar atenção para o JavaScript através da fama que o Java já tinha conquistado naquele momento.\n",
    "É sempre válido lembrar que a única semelhança entre Java e JavaScript é o nome, já que são linguagens totalmente diferentes, ok? Em 1997, \n",
    "em associação ao ECMA (acrônimo para European Computer Manufacturers Association), foi criada uma padronização do JavaScript, chamada de ECMAScript, \n",
    "para garantir o crescimento da linguagem seguindo algumas normas.\n",
    "E assim surgiu o que hoje conhecemos como JavaScript.\n",
    "Como vimos anteriormente, a comunidade do JavaScript é muito colaborativa, com isso surgem as bibliotecas da linguagem.\n",
    "De forma resumida, as bibliotecas são pedaços de código pronto que vão trazer alguma funcionalidade ou resolver algum problema.\n",
    "A ideia de utilizar as bibliotecas ou também chamadas de \"libs\" é reutilizar códigos já existentes e não perder tempo tentando escrever \n",
    "algo que já foi escrito por outra pessoa. \n",
    "Então, funcionalidades complexas como trabalhar com dados, animações e cálculos matemáticos podem ser simplificadas de maneira rápida.\n",
    "O JavaScript também está presente no desenvolvimento de jogos. Hoje, apenas com HTML, \n",
    "CSS e JavaScript já é possível criar jogos que rodam nos navegadores de internet. \n",
    "Mas, também existem as Game Engines feitas em JavaScript que podem ser utilizadas para desenvolver jogos multiplataformas.\n",
    "As Game Engines são programas que facilitam o processo do desenvolvimento do jogo, então ela irá fazer as partes mais complicadas da criação,\n",
    "como renderizar gráficos, detectar colisões, fazer animações, além de suporte para sons, inteligência artificial, gerenciamento de arquivos, entre outras.\n",
    "Além disso, diversas aplicações hoje em dia possuem pelo menos um parte feita em JavaScript, por exemplo:\n",
    "\"\"\""
   ]
  },
  {
   "cell_type": "code",
   "execution_count": 52,
   "metadata": {},
   "outputs": [],
   "source": [
    "texto_2 = \"\"\"\n",
    "Com o avanço da tecnologia e da globalização, o mercado de trabalho torna-se cada vez mais exigente em relação aos profissionais e, \n",
    "além da especialização técnica, ou seja, habilidades mensuráveis que podem ser desenvolvidas mediante cursos e treinamentos das mais diversas tecnologias, \n",
    "também chamadas de hard-skills, é importante desenvolver as habilidades comportamentais, ou soft skills.\n",
    "Como já abordamos no artigo de Soft Skills no ambiente corporativo, \n",
    "Soft Skills são habilidades pessoais que dizem respeito ao comportamento social e à forma com que nos expressamos emocionalmente. Portanto, \n",
    "influenciam nossas relações profissionais.\n",
    "Dessa forma, para um bom relacionamento com as pessoas no trabalho é importante investir em um bom convívio em equipe. \n",
    "Esse investimento pode ser feito desenvolvendo tanto a comunicação, para transmitir e receber informações, \n",
    "quanto a colaboração, a fim de gerar integração na equipe, assim como ampliar a qualidade nas entregas.\n",
    "Além disso, saber lidar com emoções e com adversidades de maneira saudável é um diferencial na sua \n",
    "carreira e é possível atingir esse objetivo desenvolvendo inteligência emocional e a habilidade de organização. \n",
    "Assim, ao desenvolver essas soft skills temos como resultado um ambiente de trabalho harmonioso.\n",
    "Se você tem interesse em se destacar profissionalmente, te convido a ler esse artigo, \n",
    "no qual vamos abordar as 4 principais soft skills para pessoas desenvolvedoras:\n",
    "Segundo a pesquisa \"Análise de Soft Skills na Visão de Profissionais da Engenharia de Software”, \n",
    "somente aqueles indivíduos que conseguem colaborar com outros seres humanos são capazes de resolver os problemas do dia a dia.\n",
    "Essa soft skill é fundamental quando falamos em ser uma pessoa desenvolvedora, \n",
    "já que na maioria das vezes desenvolver sistemas envolve muito trabalho em equipe, \n",
    "inclusive com profissionais de diversas áreas técnicas. Ter integrantes com diferentes pontos de vista reunidos em um mesmo projeto pode ser desafiador, \n",
    "mas também pode ser o ponto-chave para a criação de ideias inovadoras e decisões estratégicas que só poderiam ser percebidas a partir do olhar generalista do grupo. \n",
    "E é nesse momento que observamos o poder da colaboração.\n",
    "Uma pessoa desenvolvedora que tem a soft skill de colaboração é capaz de se dispor a ajudar quando alguém da equipe encontra impedimentos. \n",
    "Também sabe ouvir e compreender colegas de outras áreas, buscando agregar valor aos projetos como um todo, não apenas à parte que pela qual é tecnicamente responsável.\n",
    "Sendo assim, essa disponibilidade e empatia decorrentes da colaboração acabam impulsionando uma melhoria significativa na qualidade das entregas da equipe. \n",
    "Em alguns casos, a colaboração também pode auxiliar na produtividade, \n",
    "visto que a abertura às sugestões propostas pelo grupo serão ouvidas e as melhorias serão colocadas em prática em um tempo mais curto.\n",
    "Além disso, é válido lembrar que atualmente muitas empresas adotam a programação em pares como método padrão de desenvolvimento, portanto, \n",
    "nessas situações é ainda mais necessário que haja colaboração entre as pessoas desenvolvedoras para garantir a qualidade do trabalho.\n",
    "\"\"\""
   ]
  },
  {
   "cell_type": "code",
   "execution_count": 91,
   "metadata": {},
   "outputs": [],
   "source": [
    "def contagem_caracteres(texto):\n",
    "    caracteres_mais_frequente = Counter(texto.lower())\n",
    "    total_de_caracteres = sum(caracteres_mais_frequente.values())\n",
    "\n",
    "    frequencia_caracteres = [(caracteres, valor/total_de_caracteres) for caracteres, valor in caracteres_mais_frequente.items()]\n",
    "    frequencia_caracteres = Counter(dict(frequencia_caracteres))\n",
    "    mais_comuns = frequencia_caracteres.most_common(10)\n",
    "\n",
    "    for key, value in mais_comuns:\n",
    "        \n",
    "        print(\"{} --> {:.2f}%\".format(key , value * 100))\n"
   ]
  },
  {
   "cell_type": "code",
   "execution_count": 92,
   "metadata": {},
   "outputs": [
    {
     "name": "stdout",
     "output_type": "stream",
     "text": [
      "  --> 15.12%\n",
      "a --> 10.45%\n",
      "e --> 9.36%\n",
      "o --> 6.96%\n",
      "s --> 6.05%\n",
      "i --> 5.25%\n",
      "r --> 5.11%\n",
      "m --> 4.26%\n",
      "t --> 4.05%\n",
      "n --> 3.93%\n"
     ]
    }
   ],
   "source": [
    "contagem_caracteres(texto_1)"
   ]
  },
  {
   "cell_type": "code",
   "execution_count": 93,
   "metadata": {},
   "outputs": [
    {
     "name": "stdout",
     "output_type": "stream",
     "text": [
      "  --> 14.65%\n",
      "a --> 9.94%\n",
      "e --> 9.85%\n",
      "o --> 8.40%\n",
      "s --> 8.18%\n",
      "i --> 5.43%\n",
      "r --> 4.99%\n",
      "d --> 4.17%\n",
      "n --> 4.04%\n",
      "m --> 4.01%\n"
     ]
    }
   ],
   "source": [
    "contagem_caracteres(texto_2)"
   ]
  }
 ],
 "metadata": {
  "kernelspec": {
   "display_name": "Python 3",
   "language": "python",
   "name": "python3"
  },
  "language_info": {
   "codemirror_mode": {
    "name": "ipython",
    "version": 3
   },
   "file_extension": ".py",
   "mimetype": "text/x-python",
   "name": "python",
   "nbconvert_exporter": "python",
   "pygments_lexer": "ipython3",
   "version": "3.10.10"
  },
  "orig_nbformat": 4,
  "vscode": {
   "interpreter": {
    "hash": "8c1376c0641d3fa1a1b82c105e74fd71e753d34c016c7ea3baa8c248ebd60788"
   }
  }
 },
 "nbformat": 4,
 "nbformat_minor": 2
}
